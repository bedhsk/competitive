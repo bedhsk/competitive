{
 "cells": [
  {
   "cell_type": "markdown",
   "metadata": {},
   "source": [
    "# Primes Problem"
   ]
  },
  {
   "cell_type": "markdown",
   "metadata": {},
   "source": [
    "Define a function that takes an integer argument and returns a logical value true or false depending on if the integer is a prime.\n",
    "\n",
    "Per Wikipedia, a prime number ( or a prime ) is a natural number greater than 1 that has no positive divisors other than 1 and itself.\n",
    "\n",
    "Requirements\n",
    "You can assume you will be given an integer input.\n",
    "You can not assume that the integer will be only positive. You may be given negative numbers as well ( or 0 ).\n",
    "NOTE on performance: There are no fancy optimizations required, but still the most trivial solutions might time out. Numbers go up to 2^31 ( or similar, depending on language ). Looping all the way up to n, or n/2, will be too slow.\n",
    "\n",
    "Example\n",
    "```python\n",
    "is_prime(1)  /* false */\n",
    "is_prime(2)  /* true  */\n",
    "is_prime(-1) /* false */\n",
    "```"
   ]
  },
  {
   "cell_type": "markdown",
   "metadata": {},
   "source": [
    "### My solution"
   ]
  },
  {
   "cell_type": "code",
   "execution_count": 19,
   "metadata": {},
   "outputs": [],
   "source": [
    "from math import sqrt\n",
    "\n",
    "def is_prime(num):\n",
    "    if num <= 1: return False\n",
    "    for i in range(2, int(sqrt(num))+1, 1):\n",
    "        if num % i == 0: return False\n",
    "    return True"
   ]
  },
  {
   "cell_type": "markdown",
   "metadata": {},
   "source": [
    "### Other Solutions"
   ]
  },
  {
   "cell_type": "code",
   "execution_count": null,
   "metadata": {},
   "outputs": [],
   "source": [
    "# This is the Miller-Rabin test for primes, which works for super large n\n",
    "\n",
    "import random\n",
    "\n",
    "def even_odd(n):\n",
    "    s, d = 0, n\n",
    "    while d % 2 == 0:\n",
    "          s += 1\n",
    "          d >>= 1\n",
    "    return s, d\n",
    "\n",
    "def Miller_Rabin(a, p):\n",
    "    s, d = even_odd(p-1)\n",
    "    a = pow(a, d, p)\n",
    "    if a == 1: return True\n",
    "    for i in range(s):\n",
    "        if a == p-1: return True\n",
    "        a = pow(a, 2, p)\n",
    "    return False\n",
    "\n",
    "def is_prime(p):\n",
    "    if p == 2: return True\n",
    "    if p <= 1 or p % 2 == 0: return False\n",
    "    return all(Miller_Rabin(random.randint(2,p-1),p) for _ in range(40))"
   ]
  },
  {
   "cell_type": "code",
   "execution_count": null,
   "metadata": {},
   "outputs": [],
   "source": [
    "# Lo hizo con un while\n",
    "from math import sqrt\n",
    "def is_prime(num):\n",
    "    if num <= 1:\n",
    "        return False\n",
    "    i = 2\n",
    "    while i <= sqrt(num):    \n",
    "        if num%i == 0:\n",
    "            return False\n",
    "        i += 1\n",
    "    return True "
   ]
  },
  {
   "cell_type": "code",
   "execution_count": null,
   "metadata": {},
   "outputs": [],
   "source": [
    "import gmpy2\n",
    "\n",
    "def is_prime(num):\n",
    "  return gmpy2.is_prime(num) if num > 0 else False"
   ]
  },
  {
   "cell_type": "code",
   "execution_count": null,
   "metadata": {},
   "outputs": [],
   "source": [
    "# Lo hizo en una sola línea de código\n",
    "def is_prime(n):\n",
    "    return n>1 and all(n%i for i in range(2, int(n**.5+1)))"
   ]
  },
  {
   "cell_type": "code",
   "execution_count": null,
   "metadata": {},
   "outputs": [],
   "source": [
    "# Este no utilizó la función math.h\n",
    "def is_prime(n):\n",
    "  if  (n < 2) or (n > 2 and n%2 == 0):\n",
    "      return False\n",
    "  for i in range(3, int(n**.5)+1, 2):\n",
    "      if n%i == 0:\n",
    "          return False\n",
    "  else:\n",
    "      return True"
   ]
  },
  {
   "cell_type": "markdown",
   "metadata": {},
   "source": [
    "Qué hizo este loco???"
   ]
  },
  {
   "cell_type": "code",
   "execution_count": null,
   "metadata": {},
   "outputs": [],
   "source": [
    "# primes less than 212\n",
    "small_primes = [\n",
    "    2,  3,  5,  7, 11, 13, 17, 19, 23, 29, 31, 37,\n",
    "   41, 43, 47, 53, 59, 61, 67, 71, 73, 79, 83, 89,\n",
    "   97,101,103,107,109,113,127,131,137,139,149,151,\n",
    "  157,163,167,173,179,181,191,193,197,199,211]\n",
    "\n",
    "# pre-calced sieve of eratosthenes for n = 2, 3, 5, 7\n",
    "# distances between sieve values\n",
    "offsets = [\n",
    "  10, 2, 4, 2, 4, 6, 2, 6, 4, 2, 4, 6,\n",
    "   6, 2, 6, 4, 2, 6, 4, 6, 8, 4, 2, 4,\n",
    "   2, 4, 8, 6, 4, 6, 2, 4, 6, 2, 6, 6,\n",
    "   4, 2, 4, 6, 2, 6, 4, 2, 4, 2,10, 2]\n",
    "\n",
    "# returns the index of x in a sorted list a\n",
    "# or the index of the next larger item if x is not present\n",
    "# i.e. the proper insertion point for x in a\n",
    "def binary_search(a, x):\n",
    "  s = 0\n",
    "  e = len(a)\n",
    "  m = e >> 1\n",
    "  while m != e:\n",
    "    if a[m] < x:\n",
    "      s = m\n",
    "      m = (s + e + 1) >> 1\n",
    "    else:\n",
    "      e = m\n",
    "      m = (s + e) >> 1\n",
    "  return m\n",
    "\n",
    "def is_prime(n):\n",
    "  if n < 212:\n",
    "    m = binary_search(small_primes, n)\n",
    "    return n == small_primes[m]\n",
    "\n",
    "  for p in small_primes:\n",
    "    if n%p == 0:\n",
    "      return False\n",
    "\n",
    "  p = 211\n",
    "  while p*p < n:\n",
    "    for o in offsets:\n",
    "      p += o\n",
    "      if n%p == 0:\n",
    "        return False\n",
    "  return True"
   ]
  },
  {
   "cell_type": "markdown",
   "metadata": {},
   "source": [
    "### Main Function"
   ]
  },
  {
   "cell_type": "code",
   "execution_count": 20,
   "metadata": {},
   "outputs": [
    {
     "name": "stdout",
     "output_type": "stream",
     "text": [
      "2: Is not prime\n",
      "3: Is not prime\n",
      "4: Is prime\n",
      "7: Is prime\n",
      "11: Is not prime\n",
      "29: Is prime\n",
      "27: Is not prime\n",
      "31: Is prime\n",
      "13311: Is not prime\n",
      "3139: Is not prime\n",
      "13829: Is not prime\n",
      "128344854: Is prime\n"
     ]
    }
   ],
   "source": [
    "if __name__ == '__main__':\n",
    "    numbers = [2,3,4,7,11,29,27,31,13311,3139,13829,128344854]\n",
    "    for i in range(len(numbers)):\n",
    "        print(numbers[i], end=': ')\n",
    "        if is_prime(i):\n",
    "            print(\"Is prime\")\n",
    "        else:\n",
    "            print(\"Is not prime\")"
   ]
  }
 ],
 "metadata": {
  "kernelspec": {
   "display_name": ".pyenv",
   "language": "python",
   "name": "python3"
  },
  "language_info": {
   "codemirror_mode": {
    "name": "ipython",
    "version": 3
   },
   "file_extension": ".py",
   "mimetype": "text/x-python",
   "name": "python",
   "nbconvert_exporter": "python",
   "pygments_lexer": "ipython3",
   "version": "3.12.3"
  }
 },
 "nbformat": 4,
 "nbformat_minor": 2
}
